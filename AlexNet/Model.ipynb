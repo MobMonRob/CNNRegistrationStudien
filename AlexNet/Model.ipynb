{
 "cells": [
  {
   "cell_type": "markdown",
   "source": [
    "# Prototyp: AlexNet Modell\n",
    "\n",
    "AlexNet ist ein Convolutional Neural Network (CNN), das zunächst im Jahr 2012 von Alex Krizhesky et al. veröffentlicht wurde. Es ist ein wichtiger Meilenstein bei den visuellen Erkennungsaufgaben. Nach seiner Veröffentlichung wuchs die Popularität von Deep Learning und insbesondere die Popularität von CNNs drastisch. Unten ist die Architektur von AlexNet dargestellt:\n",
    "\n",
    "![AlexNet](/images/alexnet-full.png \"AlexNet Architektur\")\n",
    "\n",
    "Das Modell wurde gemäß der Spezifikationen aus dem Paper (s. u.) so genau wie möglich implementiert. Im Originalpaper wird das Modell in zwei Teile aufgeteilt, um gleichzeitig auf 2 GPUs trainiert zu werden. Im Gegensatz wird unser Modell auf 1 GPU trainiert.\n",
    "\n",
    "Quellenliteratur: [AlexNet Paper](https://papers.nips.cc/paper/2012/file/c399862d3b9d6b76c8436e924a68c45b-Paper.pdf)"
   ],
   "metadata": {
    "collapsed": false,
    "pycharm": {
     "name": "#%% md\n"
    }
   }
  },
  {
   "cell_type": "code",
   "execution_count": null,
   "outputs": [],
   "source": [
    "import tensorflow as tf\n",
    "\n",
    "# Input\n",
    "inputs = tf.keras.Input(shape=(224, 224, 3), name=\"alexnet_input\")\n",
    "\n",
    "# Schicht 1: Convolution\n",
    "l1 = tf.keras.layers.Conv2D(filters=96, kernel_size=11, strides=4, padding=\"same\")(inputs)\n",
    "l1 = tf.keras.layers.BatchNormalization()(l1)\n",
    "l1 = tf.keras.layers.ReLU()(l1)\n",
    "l1 = tf.keras.layers.MaxPooling2D(pool_size=3, strides=2)(l1)\n",
    "\n",
    "# Schicht 2: Convolution\n",
    "l2 = tf.keras.layers.Conv2D(filters=256, kernel_size=5, strides=1, padding=\"same\")(l1)\n",
    "l2 = tf.keras.layers.BatchNormalization()(l2)\n",
    "l2 = tf.keras.layers.ReLU()(l2)\n",
    "l2 = tf.keras.layers.MaxPooling2D(pool_size=3, strides=2)(l2)\n",
    "\n",
    "# Schicht 3: Convolution\n",
    "l3 = tf.keras.layers.Conv2D(filters=384, kernel_size=3, strides=1, padding=\"same\")(l2)\n",
    "l3 = tf.keras.layers.ReLU()(l3)\n",
    "\n",
    "# Schicht 4: Convolution\n",
    "l4 = tf.keras.layers.Conv2D(filters=384, kernel_size=3, strides=1, padding=\"same\")(l3)\n",
    "l4 = tf.keras.layers.ReLU()(l4)\n",
    "\n",
    "# Schicht 5: Convolution\n",
    "l5 = tf.keras.layers.Conv2D(filters=256, kernel_size=3, strides=1, padding=\"same\")(l4)\n",
    "l5 = tf.keras.layers.ReLU()(l5)\n",
    "l5 = tf.keras.layers.MaxPooling2D(pool_size=3, strides=2)(l5)\n",
    "\n",
    "# Schicht 6: Dense\n",
    "l6_pre = tf.keras.layers.Flatten()(l5)\n",
    "\n",
    "l6 = tf.keras.layers.Dense(units=4096)(l6_pre)\n",
    "l6 = tf.keras.layers.ReLU()(l6)\n",
    "l6 = tf.keras.layers.Dropout(rate=0.5)(l6)\n",
    "\n",
    "# Schicht 7: Dense\n",
    "l7 = tf.keras.layers.Dense(units=4096)(l6)\n",
    "l7 = tf.keras.layers.ReLU()(l7)\n",
    "l7 = tf.keras.layers.Dropout(rate=0.5)(l7)\n",
    "\n",
    "# Schicht 8: Dense\n",
    "l8 = tf.keras.layers.Dense(units=1000)(l7)\n",
    "l8 = tf.keras.layers.Softmax(dtype=tf.float32, name=\"alexnet_output\")(l8)\n",
    "\n",
    "alexnet = tf.keras.models.Model(inputs=inputs, outputs=l8)"
   ],
   "metadata": {
    "collapsed": false,
    "pycharm": {
     "name": "#%%\n"
    }
   }
  },
  {
   "cell_type": "code",
   "execution_count": null,
   "outputs": [],
   "source": [
    "alexnet.summary()"
   ],
   "metadata": {
    "collapsed": false,
    "pycharm": {
     "name": "#%%\n"
    }
   }
  }
 ],
 "metadata": {
  "kernelspec": {
   "display_name": "Python 3",
   "language": "python",
   "name": "python3"
  },
  "language_info": {
   "codemirror_mode": {
    "name": "ipython",
    "version": 2
   },
   "file_extension": ".py",
   "mimetype": "text/x-python",
   "name": "python",
   "nbconvert_exporter": "python",
   "pygments_lexer": "ipython2",
   "version": "2.7.6"
  }
 },
 "nbformat": 4,
 "nbformat_minor": 0
}